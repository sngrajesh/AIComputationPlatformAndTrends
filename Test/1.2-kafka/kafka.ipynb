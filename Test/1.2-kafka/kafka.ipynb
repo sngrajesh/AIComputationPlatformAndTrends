{
 "cells": [
  {
   "cell_type": "code",
   "execution_count": null,
   "id": "fc1f60e5",
   "metadata": {},
   "outputs": [],
   "source": [
    "import time"
   ]
  },
  {
   "cell_type": "code",
   "execution_count": null,
   "id": "50c85dac",
   "metadata": {},
   "outputs": [],
   "source": [
    "tips = spark.readStream.format(\"kafka\").option(\"kafka.bootstrap.servers\", \"127.0.0.1:9092\").option(\"subscribe\",\"tips\").option(\"startingOffsets\", \"earliest\").load()\n"
   ]
  },
  {
   "cell_type": "code",
   "execution_count": null,
   "id": "80b78764",
   "metadata": {},
   "outputs": [],
   "source": [
    "rawtipsQuery = tips.writeStream.trigger(processingTime='10 seconds').outputMode(\"append\").format(\"console\").start()\n"
   ]
  },
  {
   "cell_type": "code",
   "execution_count": null,
   "id": "4997eae3",
   "metadata": {},
   "outputs": [],
   "source": [
    "!ls kafka"
   ]
  },
  {
   "cell_type": "code",
   "execution_count": null,
   "id": "5fdbad14",
   "metadata": {},
   "outputs": [],
   "source": [
    "!./kafka/pushKafkaData.sh"
   ]
  },
  {
   "cell_type": "code",
   "execution_count": null,
   "id": "3cbcc804",
   "metadata": {},
   "outputs": [],
   "source": [
    "time.sleep(3)"
   ]
  },
  {
   "cell_type": "code",
   "execution_count": null,
   "id": "d7e39396",
   "metadata": {},
   "outputs": [],
   "source": [
    "rawVoterQuery.stop()\n"
   ]
  },
  {
   "cell_type": "code",
   "execution_count": null,
   "id": "97eee198",
   "metadata": {},
   "outputs": [],
   "source": [
    "kafkatipsDF = spark.readStream.format(\"kafka\").option(\"kafka.bootstrap.servers\", \"127.0.0.1:9092\").option(\"subscribe\", \"tips\").option(\"startingOffsets\", \"earliest\").load()\n"
   ]
  },
  {
   "cell_type": "code",
   "execution_count": null,
   "id": "2a135c36",
   "metadata": {},
   "outputs": [],
   "source": [
    "tipsStringDF = kafkatipsDF.selectExpr(\"CAST(value AS STRING)\")\n"
   ]
  },
  {
   "cell_type": "code",
   "execution_count": null,
   "id": "4e95078c",
   "metadata": {},
   "outputs": [],
   "source": [
    "stringTipsQuery = tipsStringDF.writeStream.trigger(processingTime='10 seconds').outputMode(\"append\").format(\"console\").option(\"truncate\", \"false\").start()\n"
   ]
  },
  {
   "cell_type": "code",
   "execution_count": null,
   "id": "547f5aa4",
   "metadata": {},
   "outputs": [],
   "source": [
    "stringTipsQuery.stop()\n"
   ]
  },
  {
   "cell_type": "code",
   "execution_count": null,
   "id": "a40d5d18",
   "metadata": {},
   "outputs": [],
   "source": [
    "kafkaTipsDF = spark.readStream.format(\"kafka\").option(\"kafka.bootstrap.servers\", \"127.0.0.1:9092\").option(\"subscribe\", \"tips\").option(\"startingOffsets\", \"earliest\").load()\n",
    "\n",
    "\n",
    "from pyspark.sql.types import StringType, LongType, StructType, StructField\n",
    "\n",
    "tipsSchema = StructType([StructField(\"gender\",StringType(), True), StructField(\"total\",LongType(), True), StructField(\"tip\",LongType(), True)])\n",
    "\n"
   ]
  },
  {
   "cell_type": "code",
   "execution_count": null,
   "id": "35f8b196",
   "metadata": {},
   "outputs": [],
   "source": [
    "from pyspark.sql.functions import from_json\n",
    "\n",
    "tipsStatsDF = kafkatipsDF.select(from_json(kafkaVoterDF[\"value\"].cast(StringType()), voterSchema).alias(\"voterJSON\")).groupBy(\"voterJSON.gender\", \"voterJSON.party\").count()\n",
    "\n",
    "tipsStatsQuery = tipsStatsDF.writeStream.trigger(processingTime='1 minute').outputMode(\"complete\").format(\"console\").start()\n",
    "\n"
   ]
  },
  {
   "cell_type": "code",
   "execution_count": null,
   "id": "08cf99c7",
   "metadata": {},
   "outputs": [],
   "source": [
    "voterStatsQuery.stop()\n"
   ]
  },
  {
   "cell_type": "code",
   "execution_count": null,
   "id": "55b3559d",
   "metadata": {},
   "outputs": [],
   "source": []
  },
  {
   "cell_type": "code",
   "execution_count": null,
   "id": "ef6425c9",
   "metadata": {},
   "outputs": [],
   "source": []
  },
  {
   "cell_type": "code",
   "execution_count": null,
   "id": "0a9423d1",
   "metadata": {},
   "outputs": [],
   "source": []
  },
  {
   "cell_type": "code",
   "execution_count": null,
   "id": "b76ae705",
   "metadata": {},
   "outputs": [],
   "source": []
  },
  {
   "cell_type": "code",
   "execution_count": null,
   "id": "03815eb7",
   "metadata": {},
   "outputs": [],
   "source": []
  },
  {
   "cell_type": "code",
   "execution_count": null,
   "id": "7cfc46a4",
   "metadata": {},
   "outputs": [],
   "source": []
  },
  {
   "cell_type": "code",
   "execution_count": null,
   "id": "c855b10b",
   "metadata": {},
   "outputs": [],
   "source": []
  }
 ],
 "metadata": {
  "kernelspec": {
   "display_name": "Python 3",
   "language": "python",
   "name": "python3"
  },
  "language_info": {
   "codemirror_mode": {
    "name": "ipython",
    "version": 3
   },
   "file_extension": ".py",
   "mimetype": "text/x-python",
   "name": "python",
   "nbconvert_exporter": "python",
   "pygments_lexer": "ipython3",
   "version": "3.6.9"
  }
 },
 "nbformat": 4,
 "nbformat_minor": 5
}
