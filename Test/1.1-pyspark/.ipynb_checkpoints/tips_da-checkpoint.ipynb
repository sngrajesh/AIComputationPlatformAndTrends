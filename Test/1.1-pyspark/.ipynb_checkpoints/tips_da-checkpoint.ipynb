{
 "cells": [
  {
   "cell_type": "code",
   "execution_count": 1,
   "id": "c2e2dbc1",
   "metadata": {},
   "outputs": [],
   "source": [
    "# Intialization\n",
    "import os\n",
    "import sys\n",
    "\n",
    "os.environ[\"SPARK_HOME\"] = \"/home/talentum/spark\"\n",
    "os.environ[\"PYLIB\"] = os.environ[\"SPARK_HOME\"] + \"/python/lib\"\n",
    "# In below two lines, use /usr/bin/python2.7 if you want to use Python 2\n",
    "os.environ[\"PYSPARK_PYTHON\"] = \"/usr/bin/python3.6\" \n",
    "os.environ[\"PYSPARK_DRIVER_PYTHON\"] = \"/usr/bin/python3\"\n",
    "sys.path.insert(0, os.environ[\"PYLIB\"] +\"/py4j-0.10.7-src.zip\")\n",
    "sys.path.insert(0, os.environ[\"PYLIB\"] +\"/pyspark.zip\")\n",
    "\n",
    "# NOTE: Whichever package you want mention here.\n",
    "# os.environ['PYSPARK_SUBMIT_ARGS'] = '--packages com.databricks:spark-xml_2.11:0.6.0 pyspark-shell' \n",
    "# os.environ['PYSPARK_SUBMIT_ARGS'] = '--packages org.apache.spark:spark-avro_2.11:2.4.0 pyspark-shell'\n",
    "os.environ['PYSPARK_SUBMIT_ARGS'] = '--packages com.databricks:spark-xml_2.11:0.6.0,org.apache.spark:spark-avro_2.11:2.4.3 pyspark-shell'\n",
    "# os.environ['PYSPARK_SUBMIT_ARGS'] = '--packages com.databricks:spark-xml_2.11:0.6.0,org.apache.spark:spark-avro_2.11:2.4.0 pyspark-shell'\n"
   ]
  },
  {
   "cell_type": "code",
   "execution_count": 2,
   "id": "7855208b",
   "metadata": {},
   "outputs": [],
   "source": [
    "#Entrypoint 2.x\n",
    "from pyspark.sql import SparkSession\n",
    "spark = SparkSession.builder.appName(\"Spark SQL basic example\").enableHiveSupport().getOrCreate()\n",
    "\n",
    "# On yarn:\n",
    "# spark = SparkSession.builder.appName(\"Spark SQL basic example\").enableHiveSupport().master(\"yarn\").getOrCreate()\n",
    "# specify .master(\"yarn\")\n",
    "\n",
    "sc = spark.sparkContext"
   ]
  },
  {
   "cell_type": "code",
   "execution_count": 3,
   "id": "e9d5ba6f",
   "metadata": {},
   "outputs": [
    {
     "name": "stdout",
     "output_type": "stream",
     "text": [
      "/home/talentum/test-jupyter/exam\r\n"
     ]
    }
   ],
   "source": [
    "!pwd"
   ]
  },
  {
   "cell_type": "code",
   "execution_count": 8,
   "id": "c041ea70",
   "metadata": {},
   "outputs": [],
   "source": [
    "# Reading the file\n",
    "tips_df = spark.read.csv('file:///home/talentum/test-jupyter/exam/tips.csv', header=True, inferSchema=True)"
   ]
  },
  {
   "cell_type": "code",
   "execution_count": 9,
   "id": "ddc5a6e2",
   "metadata": {
    "scrolled": true
   },
   "outputs": [
    {
     "name": "stdout",
     "output_type": "stream",
     "text": [
      "+----------+----+------+------+---+------+----+----------------+------------------+----------------+----------+\n",
      "|total_bill| tip|gender|smoker|day|  time|size|price_per_person|        Payer Name|       CC Number|Payment ID|\n",
      "+----------+----+------+------+---+------+----+----------------+------------------+----------------+----------+\n",
      "|     16.99|1.01|Female|    No|Sun|Dinner|   2|            8.49|Christy Cunningham|3560330000000000|   Sun2959|\n",
      "|     10.34|1.66|  Male|    No|Sun|Dinner|   3|            3.45|    Douglas Tucker|4478070000000000|   Sun4608|\n",
      "|     21.01| 3.5|  Male|    No|Sun|Dinner|   3|             7.0|    Travis Walters|6011810000000000|   Sun4458|\n",
      "|     23.68|3.31|  Male|    No|Sun|Dinner|   2|           11.84|  Nathaniel Harris|4676140000000000|   Sun5260|\n",
      "+----------+----+------+------+---+------+----+----------------+------------------+----------------+----------+\n",
      "only showing top 4 rows\n",
      "\n"
     ]
    }
   ],
   "source": [
    "tips_df.show(4)"
   ]
  },
  {
   "cell_type": "code",
   "execution_count": 14,
   "id": "24e2f9c6",
   "metadata": {},
   "outputs": [
    {
     "name": "stdout",
     "output_type": "stream",
     "text": [
      "root\n",
      " |-- total_bill: double (nullable = true)\n",
      " |-- tip: double (nullable = true)\n",
      " |-- gender: string (nullable = true)\n",
      " |-- smoker: string (nullable = true)\n",
      " |-- day: string (nullable = true)\n",
      " |-- time: string (nullable = true)\n",
      " |-- size: integer (nullable = true)\n",
      " |-- price_per_person: double (nullable = true)\n",
      " |-- Payer Name: string (nullable = true)\n",
      " |-- CC Number: decimal(16,0) (nullable = true)\n",
      " |-- Payment ID: string (nullable = true)\n",
      "\n"
     ]
    }
   ],
   "source": [
    "# Print the schema\n",
    "tips_df.printSchema()"
   ]
  },
  {
   "cell_type": "code",
   "execution_count": 15,
   "id": "72cee449",
   "metadata": {},
   "outputs": [
    {
     "name": "stdout",
     "output_type": "stream",
     "text": [
      "+----------+----+------+------+---+------+----+----------------+------------------+----------------+----------+------------------+\n",
      "|total_bill| tip|gender|smoker|day|  time|size|price_per_person|        Payer Name|       CC Number|Payment ID|    tip_percentage|\n",
      "+----------+----+------+------+---+------+----+----------------+------------------+----------------+----------+------------------+\n",
      "|     16.99|1.01|Female|    No|Sun|Dinner|   2|            8.49|Christy Cunningham|3560330000000000|   Sun2959|5.9446733372572105|\n",
      "|     10.34|1.66|  Male|    No|Sun|Dinner|   3|            3.45|    Douglas Tucker|4478070000000000|   Sun4608|16.054158607350097|\n",
      "+----------+----+------+------+---+------+----+----------------+------------------+----------------+----------+------------------+\n",
      "only showing top 2 rows\n",
      "\n"
     ]
    }
   ],
   "source": [
    "# calculating new df with precentage\n",
    "tips_df_precentage = tips_df.withColumn('tip_percentage', (tips_df.tip/tips_df.total_bill)*100)\n",
    "tips_df_precentage.show(2)"
   ]
  },
  {
   "cell_type": "code",
   "execution_count": 18,
   "id": "6919c88c",
   "metadata": {},
   "outputs": [
    {
     "name": "stdout",
     "output_type": "stream",
     "text": [
      "+----------+----+------+------+---+------+----+----------------+------------------+----------------+----------+------------------+\n",
      "|total_bill| tip|gender|smoker|day|  time|size|price_per_person|        Payer Name|       CC Number|Payment ID|    tip_percentage|\n",
      "+----------+----+------+------+---+------+----+----------------+------------------+----------------+----------+------------------+\n",
      "|     16.99|1.01|Female|    No|Sun|Dinner|   2|            8.49|Christy Cunningham|3560330000000000|   Sun2959|5.9446733372572105|\n",
      "|     10.34|1.66|  Male|    No|Sun|Dinner|   3|            3.45|    Douglas Tucker|4478070000000000|   Sun4608|16.054158607350097|\n",
      "|     21.01| 3.5|  Male|    No|Sun|Dinner|   3|             7.0|    Travis Walters|6011810000000000|   Sun4458|16.658733936220845|\n",
      "|     23.68|3.31|  Male|    No|Sun|Dinner|   2|           11.84|  Nathaniel Harris|4676140000000000|   Sun5260| 13.97804054054054|\n",
      "|     24.59|3.61|Female|    No|Sun|Dinner|   4|            6.15|      Tonya Carter|4832730000000000|   Sun2251|14.680764538430255|\n",
      "+----------+----+------+------+---+------+----+----------------+------------------+----------------+----------+------------------+\n",
      "only showing top 5 rows\n",
      "\n"
     ]
    }
   ],
   "source": [
    "tips_above_threshold_df = tips_df_precentage.filter(tips_df_precentage.tip_percentage >= 5)\n",
    "tips_above_threshold_df.show(5)"
   ]
  },
  {
   "cell_type": "code",
   "execution_count": 29,
   "id": "f5196155",
   "metadata": {},
   "outputs": [
    {
     "name": "stdout",
     "output_type": "stream",
     "text": [
      "Number of tips (Dataframe): 243\n"
     ]
    }
   ],
   "source": [
    "# Pringting the total tips which re greate than 5$\n",
    "print(f\"Number of tips (Dataframe): {tips_above_threshold_df.count()}\")"
   ]
  },
  {
   "cell_type": "code",
   "execution_count": 27,
   "id": "204968b4",
   "metadata": {
    "scrolled": true
   },
   "outputs": [
    {
     "name": "stdout",
     "output_type": "stream",
     "text": [
      "+----------+----+------+------+---+------+----+----------------+------------------+----------------+----------+\n",
      "|total_bill| tip|gender|smoker|day|  time|size|price_per_person|        Payer Name|       CC Number|Payment ID|\n",
      "+----------+----+------+------+---+------+----+----------------+------------------+----------------+----------+\n",
      "|     16.99|1.01|Female|    No|Sun|Dinner|   2|            8.49|Christy Cunningham|3560330000000000|   Sun2959|\n",
      "|     10.34|1.66|  Male|    No|Sun|Dinner|   3|            3.45|    Douglas Tucker|4478070000000000|   Sun4608|\n",
      "|     21.01| 3.5|  Male|    No|Sun|Dinner|   3|             7.0|    Travis Walters|6011810000000000|   Sun4458|\n",
      "|     23.68|3.31|  Male|    No|Sun|Dinner|   2|           11.84|  Nathaniel Harris|4676140000000000|   Sun5260|\n",
      "|     24.59|3.61|Female|    No|Sun|Dinner|   4|            6.15|      Tonya Carter|4832730000000000|   Sun2251|\n",
      "+----------+----+------+------+---+------+----+----------------+------------------+----------------+----------+\n",
      "only showing top 5 rows\n",
      "\n"
     ]
    }
   ],
   "source": [
    "# Using sql to to the same thing\n",
    "tips_df.createOrReplaceTempView(\"tips\")\n",
    "\n",
    "\n",
    "# Writing the quey \n",
    "tips_above_threshold_sql = spark.sql(\"\"\"\n",
    "    SELECT * \n",
    "    FROM tips\n",
    "    WHERE (tip/ total_bill)*100 >= 5\n",
    "\"\"\")\n",
    "\n",
    "# Show the result\n",
    "tips_above_threshold_sql.show(5)"
   ]
  },
  {
   "cell_type": "code",
   "execution_count": 28,
   "id": "7783faa8",
   "metadata": {},
   "outputs": [
    {
     "name": "stdout",
     "output_type": "stream",
     "text": [
      "Number of tips (SQL): 243\n"
     ]
    }
   ],
   "source": [
    "# Sohwing total sql results\n",
    "print(f\"Number of tips (SQL): {tips_above_threshold_sql.count()}\")"
   ]
  }
 ],
 "metadata": {
  "kernelspec": {
   "display_name": "Python 3",
   "language": "python",
   "name": "python3"
  },
  "language_info": {
   "codemirror_mode": {
    "name": "ipython",
    "version": 3
   },
   "file_extension": ".py",
   "mimetype": "text/x-python",
   "name": "python",
   "nbconvert_exporter": "python",
   "pygments_lexer": "ipython3",
   "version": "3.6.9"
  }
 },
 "nbformat": 4,
 "nbformat_minor": 5
}
